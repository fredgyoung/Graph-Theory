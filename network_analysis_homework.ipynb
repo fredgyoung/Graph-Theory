{
 "cells": [
  {
   "cell_type": "code",
   "execution_count": 1,
   "metadata": {
    "collapsed": false
   },
   "outputs": [],
   "source": [
    "import networkx as nx\n",
    "%matplotlib inline"
   ]
  },
  {
   "cell_type": "code",
   "execution_count": 2,
   "metadata": {
    "collapsed": false
   },
   "outputs": [],
   "source": [
    "M=nx.read_gml(\"polblogs.gml\")"
   ]
  },
  {
   "cell_type": "code",
   "execution_count": 25,
   "metadata": {
    "collapsed": false
   },
   "outputs": [
    {
     "data": {
      "text/plain": [
       "<networkx.classes.digraph.DiGraph at 0x864f198>"
      ]
     },
     "execution_count": 25,
     "metadata": {},
     "output_type": "execute_result"
    }
   ],
   "source": [
    "M"
   ]
  },
  {
   "cell_type": "code",
   "execution_count": 33,
   "metadata": {
    "collapsed": false
   },
   "outputs": [
    {
     "data": {
      "text/plain": [
       "'Name: \\nType: DiGraph\\nNumber of nodes: 1490\\nNumber of edges: 19016\\nAverage in degree:  12.7624\\nAverage out degree:  12.7624'"
      ]
     },
     "execution_count": 33,
     "metadata": {},
     "output_type": "execute_result"
    }
   ],
   "source": [
    "nx.info(M)"
   ]
  },
  {
   "cell_type": "code",
   "execution_count": 3,
   "metadata": {
    "collapsed": true
   },
   "outputs": [],
   "source": [
    "# create weighted graph from M\n",
    "G = nx.Graph()\n",
    "for u,v,data in M.edges_iter(data=True):\n",
    "    if G.has_edge(u,v):\n",
    "        G[u][v]['weight'] += 1\n",
    "    else:\n",
    "        G.add_edge(u, v, weight=1)\n",
    "\n"
   ]
  },
  {
   "cell_type": "code",
   "execution_count": 32,
   "metadata": {
    "collapsed": false
   },
   "outputs": [
    {
     "data": {
      "text/plain": [
       "<networkx.classes.graph.Graph at 0x864fa58>"
      ]
     },
     "execution_count": 32,
     "metadata": {},
     "output_type": "execute_result"
    }
   ],
   "source": [
    "G"
   ]
  },
  {
   "cell_type": "code",
   "execution_count": 27,
   "metadata": {
    "collapsed": false
   },
   "outputs": [
    {
     "data": {
      "text/plain": [
       "'Name: \\nType: Graph\\nNumber of nodes: 1224\\nNumber of edges: 16711\\nAverage degree:  27.3056'"
      ]
     },
     "execution_count": 27,
     "metadata": {},
     "output_type": "execute_result"
    }
   ],
   "source": [
    "nx.info(G)"
   ]
  },
  {
   "cell_type": "markdown",
   "metadata": {},
   "source": [
    "### 1.  Create a nice looking graph of the political blog network"
   ]
  },
  {
   "cell_type": "code",
   "execution_count": 4,
   "metadata": {
    "collapsed": false
   },
   "outputs": [
    {
     "data": {
      "image/png": "[encoded data removed]",
      "text/plain": [
       "<matplotlib.figure.Figure at 0x40d1198>"
      ]
     },
     "metadata": {},
     "output_type": "display_data"
    }
   ],
   "source": [
    "nx.draw(G)"
   ]
  },
  {
   "cell_type": "markdown",
   "metadata": {},
   "source": [
    "### 2.  What are the 10 most influential blogs?"
   ]
  },
  {
   "cell_type": "code",
   "execution_count": 5,
   "metadata": {
    "collapsed": false
   },
   "outputs": [],
   "source": [
    "centrality = nx.eigenvector_centrality_numpy(G)"
   ]
  },
  {
   "cell_type": "code",
   "execution_count": 20,
   "metadata": {
    "collapsed": true
   },
   "outputs": [],
   "source": [
    "import operator\n",
    "influential = sorted(centrality.items(), key=operator.itemgetter(1), reverse=True)\n",
    "most_influential = influential[:10]\n",
    "least_influential = influential[-10:]"
   ]
  },
  {
   "cell_type": "code",
   "execution_count": 21,
   "metadata": {
    "collapsed": false
   },
   "outputs": [
    {
     "name": "stdout",
     "output_type": "stream",
     "text": [
      "Blog                           Influence\n",
      "-----------------------------  --------------\n",
      "atrios.blogspot.com            0.194822958989\n",
      "dailykos.com                   0.160907163858\n",
      "washingtonmonthly.com          0.146540504638\n",
      "digbysblog.blogspot.com        0.14265582252\n",
      "bodyandsoul.typepad.com        0.141148535313\n",
      "liberaloasis.com               0.139537856667\n",
      "tbogg.blogspot.com             0.137048575355\n",
      "corrente.blogspot.com          0.129430731342\n",
      "talkingpointsmemo.com          0.127009310783\n",
      "dneiwert.blogspot.com          0.122387039006\n"
     ]
    }
   ],
   "source": [
    "print '{0:30} {1}'.format('Blog', 'Influence')\n",
    "print '-----------------------------  --------------'\n",
    "for item in most_influential:\n",
    "    print '{0:30} {1}'.format(item[0], item[1])"
   ]
  },
  {
   "cell_type": "markdown",
   "metadata": {},
   "source": [
    "### 3.  What are the 10 least influential blogs?\n",
    "\n"
   ]
  },
  {
   "cell_type": "code",
   "execution_count": 24,
   "metadata": {
    "collapsed": false
   },
   "outputs": [
    {
     "name": "stdout",
     "output_type": "stream",
     "text": [
      "Blog                                      Influence\n",
      "----------------------------------------  --------------\n",
      "thingsasitis.net                          1.17370286266e-05\n",
      "massachusetts-liberal.com                 9.48471174661e-06\n",
      "quimundus.squarespace.com                 6.05649748744e-06\n",
      "democratvoice.org                         1.02216023172e-06\n",
      "batr.net                                  6.79505320439e-07\n",
      "batr.org/commentary.html                  6.79424545479e-07\n",
      "quimundus.modblog.com                     6.67572534484e-08\n",
      "americanworldview.tripod.com/weltansblog  7.48979240759e-09\n",
      "thelonedem.com                            4.70062057807e-19\n",
      "digital-democrat.blogspot.com             -1.40068973546e-19\n"
     ]
    }
   ],
   "source": [
    "print '{0:41} {1}'.format('Blog', 'Influence')\n",
    "print '----------------------------------------  --------------'\n",
    "for item in least_influential:\n",
    "    print '{0:41} {1}'.format(item[0], item[1])"
   ]
  },
  {
   "cell_type": "markdown",
   "metadata": {},
   "source": [
    "### 4.  Answer this question for both left wing and right wing blogs seperately.  (Optional 10 Extra Credit Points)"
   ]
  },
  {
   "cell_type": "code",
   "execution_count": null,
   "metadata": {
    "collapsed": true
   },
   "outputs": [],
   "source": []
  }
 ],
 "metadata": {
  "anaconda-cloud": {},
  "kernelspec": {
   "display_name": "Python [Root]",
   "language": "python",
   "name": "Python [Root]"
  },
  "language_info": {
   "codemirror_mode": {
    "name": "ipython",
    "version": 2
   },
   "file_extension": ".py",
   "mimetype": "text/x-python",
   "name": "python",
   "nbconvert_exporter": "python",
   "pygments_lexer": "ipython2",
   "version": "2.7.12"
  }
 },
 "nbformat": 4,
 "nbformat_minor": 0
}
